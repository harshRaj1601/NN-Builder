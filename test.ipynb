{
 "cells": [
  {
   "cell_type": "code",
   "execution_count": 42,
   "id": "37313449",
   "metadata": {},
   "outputs": [],
   "source": [
    "import google.generativeai as genai\n",
    "import os\n",
    "from dotenv import load_dotenv\n",
    "\n",
    "# Load environment variables from .env file\n",
    "load_dotenv()\n",
    "# Set the API key for Generative AI\n",
    "genai.configure(api_key=os.getenv(\"GENAI_API_KEY\"))\n",
    "\n",
    "# Define the prompt for the model\n",
    "prompt = \"\"\"Given a dataset with following properties:\n",
    "        - Number of samples: 5000\n",
    "        - Number of features: 10\n",
    "        - Task type: classification\n",
    "        - Number of classes: 4\n",
    "\n",
    "        Suggest an optimal neural network architecture for this classification task.  Provide the response as a *pure*, valid JSON string with *no* surrounding text or explanations. Do start with \"{\" and do not use newline codes or tabs. The JSON should have a \"layers\" field, an \"optimizer\" field, a \"learning_rate\" field, a \"loss\" field, a \"metrics\" field, a \"batch_size\" field, and an \"epochs\" field.\n",
    "        \"\"\"\n",
    "\n",
    "# Call the Generative AI model with the prompt\n",
    "model = genai.GenerativeModel(model_name=\"gemini-2.0-flash-exp\")"
   ]
  },
  {
   "cell_type": "code",
   "execution_count": 43,
   "id": "f3158016",
   "metadata": {},
   "outputs": [],
   "source": [
    "res = model.generate_content(prompt)"
   ]
  },
  {
   "cell_type": "code",
   "execution_count": 44,
   "id": "89a65533",
   "metadata": {},
   "outputs": [
    {
     "data": {
      "text/plain": [
       "'```json\\n{\\n\"layers\": [\\n{\"type\": \"Dense\", \"units\": 64, \"activation\": \"relu\", \"input_dim\": 10},\\n{\"type\": \"Dropout\", \"rate\": 0.2},\\n{\"type\": \"Dense\", \"units\": 32, \"activation\": \"relu\"},\\n{\"type\": \"Dropout\", \"rate\": 0.2},\\n{\"type\": \"Dense\", \"units\": 4, \"activation\": \"softmax\"}\\n],\\n\"optimizer\": \"adam\",\\n\"learning_rate\": 0.001,\\n\"loss\": \"categorical_crossentropy\",\\n\"metrics\": [\"accuracy\"],\\n\"batch_size\": 32,\\n\"epochs\": 50\\n}\\n```'"
      ]
     },
     "execution_count": 44,
     "metadata": {},
     "output_type": "execute_result"
    }
   ],
   "source": [
    "res.text"
   ]
  },
  {
   "cell_type": "code",
   "execution_count": 45,
   "id": "f8a88c99",
   "metadata": {},
   "outputs": [
    {
     "name": "stdout",
     "output_type": "stream",
     "text": [
      "{\"layers\": [{\"type\": \"Dense\", \"units\": 64, \"activation\": \"relu\", \"input_dim\": 10},{\"type\": \"Dropout\", \"rate\": 0.2},{\"type\": \"Dense\", \"units\": 32, \"activation\": \"relu\"},{\"type\": \"Dropout\", \"rate\": 0.2},{\"type\": \"Dense\", \"units\": 4, \"activation\": \"softmax\"}],\"optimizer\": \"adam\",\"learning_rate\": 0.001,\"loss\": \"categorical_crossentropy\",\"metrics\": [\"accuracy\"],\"batch_size\": 32,\"epochs\": 50}\n",
      "{'layers': [{'type': 'Dense', 'units': 64, 'activation': 'relu', 'input_dim': 10}, {'type': 'Dropout', 'rate': 0.2}, {'type': 'Dense', 'units': 32, 'activation': 'relu'}, {'type': 'Dropout', 'rate': 0.2}, {'type': 'Dense', 'units': 4, 'activation': 'softmax'}], 'optimizer': 'adam', 'learning_rate': 0.001, 'loss': 'categorical_crossentropy', 'metrics': ['accuracy'], 'batch_size': 32, 'epochs': 50}\n"
     ]
    }
   ],
   "source": [
    "import json\n",
    "result = res.text.strip()\n",
    "result = result.replace(\"\\n\", \"\").replace(\"\\t\", \"\")\n",
    "result = result.replace(\"```json\\n\", \"\").replace(\"```\", \"\").replace(\"json{\", \"{\").replace(\"}\", \"}\")\n",
    "print(result)\n",
    "response = json.loads(result)\n",
    "print(response)\n"
   ]
  },
  {
   "cell_type": "code",
   "execution_count": null,
   "id": "15f137be",
   "metadata": {},
   "outputs": [
    {
     "name": "stdout",
     "output_type": "stream",
     "text": [
      "Dataset created with shape:\n",
      "Dataset saved to classification_dataset.csv\n",
      "Labels (y): (5000,)\n"
     ]
    }
   ],
   "source": [
    "from sklearn.datasets import make_classification\n",
    "import pandas as pd\n",
    "\n",
    "# Create a random classification dataset\n",
    "X, y = make_classification(n_samples=5000, n_features=20, n_classes=4, n_informative=8, shuffle=True)\n",
    "\n",
    "print(\"Dataset created with shape:\")\n",
    "# Save the dataset into a CSV file\n",
    "df = pd.DataFrame(X, columns=[f\"Feature_{i}\" for i in range(X.shape[1])])\n",
    "df['Label'] = y\n",
    "df.to_csv(\"classification_dataset.csv\", index=False)\n",
    "print(\"Dataset saved to classification_dataset.csv\")\n",
    "print(\"Labels (y):\", y.shape)"
   ]
  }
 ],
 "metadata": {
  "kernelspec": {
   "display_name": "base",
   "language": "python",
   "name": "python3"
  },
  "language_info": {
   "codemirror_mode": {
    "name": "ipython",
    "version": 3
   },
   "file_extension": ".py",
   "mimetype": "text/x-python",
   "name": "python",
   "nbconvert_exporter": "python",
   "pygments_lexer": "ipython3",
   "version": "3.12.3"
  }
 },
 "nbformat": 4,
 "nbformat_minor": 5
}
